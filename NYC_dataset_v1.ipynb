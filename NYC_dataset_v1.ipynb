{
 "cells": [
  {
   "cell_type": "markdown",
   "id": "3f2bed50",
   "metadata": {},
   "source": [
    "Import pandas and required dataset csv"
   ]
  },
  {
   "cell_type": "code",
   "execution_count": 37,
   "id": "c061ba0c",
   "metadata": {},
   "outputs": [],
   "source": [
    "import pandas  as pd"
   ]
  },
  {
   "cell_type": "code",
   "execution_count": 38,
   "id": "e243f456",
   "metadata": {},
   "outputs": [],
   "source": [
    "data = pd.read_csv(\"/workspace/nvidia-examples/cnn/data/NYPD_Shooting_Incident_Data__Historic_.csv\")"
   ]
  },
  {
   "cell_type": "markdown",
   "id": "79b75383",
   "metadata": {},
   "source": [
    "Show the values of the dataset"
   ]
  },
  {
   "cell_type": "code",
   "execution_count": 39,
   "id": "6eac1740",
   "metadata": {},
   "outputs": [
    {
     "data": {
      "text/html": [
       "<div>\n",
       "<style scoped>\n",
       "    .dataframe tbody tr th:only-of-type {\n",
       "        vertical-align: middle;\n",
       "    }\n",
       "\n",
       "    .dataframe tbody tr th {\n",
       "        vertical-align: top;\n",
       "    }\n",
       "\n",
       "    .dataframe thead th {\n",
       "        text-align: right;\n",
       "    }\n",
       "</style>\n",
       "<table border=\"1\" class=\"dataframe\">\n",
       "  <thead>\n",
       "    <tr style=\"text-align: right;\">\n",
       "      <th></th>\n",
       "      <th>INCIDENT_KEY</th>\n",
       "      <th>OCCUR_DATE</th>\n",
       "      <th>OCCUR_TIME</th>\n",
       "      <th>BORO</th>\n",
       "      <th>PRECINCT</th>\n",
       "      <th>JURISDICTION_CODE</th>\n",
       "      <th>LOCATION_DESC</th>\n",
       "      <th>STATISTICAL_MURDER_FLAG</th>\n",
       "      <th>PERP_AGE_GROUP</th>\n",
       "      <th>PERP_SEX</th>\n",
       "      <th>PERP_RACE</th>\n",
       "      <th>VIC_AGE_GROUP</th>\n",
       "      <th>VIC_SEX</th>\n",
       "      <th>VIC_RACE</th>\n",
       "      <th>X_COORD_CD</th>\n",
       "      <th>Y_COORD_CD</th>\n",
       "      <th>Latitude</th>\n",
       "      <th>Longitude</th>\n",
       "      <th>Lon_Lat</th>\n",
       "    </tr>\n",
       "  </thead>\n",
       "  <tbody>\n",
       "    <tr>\n",
       "      <th>0</th>\n",
       "      <td>24050482</td>\n",
       "      <td>08/27/2006</td>\n",
       "      <td>05:35:00</td>\n",
       "      <td>BRONX</td>\n",
       "      <td>52</td>\n",
       "      <td>0.0</td>\n",
       "      <td>NaN</td>\n",
       "      <td>True</td>\n",
       "      <td>NaN</td>\n",
       "      <td>NaN</td>\n",
       "      <td>NaN</td>\n",
       "      <td>25-44</td>\n",
       "      <td>F</td>\n",
       "      <td>BLACK HISPANIC</td>\n",
       "      <td>1.017542e+06</td>\n",
       "      <td>255918.875000</td>\n",
       "      <td>40.869058</td>\n",
       "      <td>-73.879632</td>\n",
       "      <td>POINT (-73.87963173099996 40.86905819000003)</td>\n",
       "    </tr>\n",
       "    <tr>\n",
       "      <th>1</th>\n",
       "      <td>77673979</td>\n",
       "      <td>03/11/2011</td>\n",
       "      <td>12:03:00</td>\n",
       "      <td>QUEENS</td>\n",
       "      <td>106</td>\n",
       "      <td>0.0</td>\n",
       "      <td>NaN</td>\n",
       "      <td>False</td>\n",
       "      <td>NaN</td>\n",
       "      <td>NaN</td>\n",
       "      <td>NaN</td>\n",
       "      <td>65+</td>\n",
       "      <td>M</td>\n",
       "      <td>WHITE</td>\n",
       "      <td>1.027543e+06</td>\n",
       "      <td>186095.000000</td>\n",
       "      <td>40.677367</td>\n",
       "      <td>-73.843920</td>\n",
       "      <td>POINT (-73.84392019199998 40.677366895000034)</td>\n",
       "    </tr>\n",
       "    <tr>\n",
       "      <th>2</th>\n",
       "      <td>203350417</td>\n",
       "      <td>10/06/2019</td>\n",
       "      <td>01:09:00</td>\n",
       "      <td>BROOKLYN</td>\n",
       "      <td>77</td>\n",
       "      <td>0.0</td>\n",
       "      <td>NaN</td>\n",
       "      <td>False</td>\n",
       "      <td>NaN</td>\n",
       "      <td>NaN</td>\n",
       "      <td>NaN</td>\n",
       "      <td>18-24</td>\n",
       "      <td>F</td>\n",
       "      <td>BLACK</td>\n",
       "      <td>9.953250e+05</td>\n",
       "      <td>185155.000000</td>\n",
       "      <td>40.674886</td>\n",
       "      <td>-73.960075</td>\n",
       "      <td>POINT (-73.96007501899999 40.674885741000026)</td>\n",
       "    </tr>\n",
       "    <tr>\n",
       "      <th>3</th>\n",
       "      <td>80584527</td>\n",
       "      <td>09/04/2011</td>\n",
       "      <td>03:35:00</td>\n",
       "      <td>BRONX</td>\n",
       "      <td>40</td>\n",
       "      <td>0.0</td>\n",
       "      <td>NaN</td>\n",
       "      <td>False</td>\n",
       "      <td>NaN</td>\n",
       "      <td>NaN</td>\n",
       "      <td>NaN</td>\n",
       "      <td>&lt;18</td>\n",
       "      <td>M</td>\n",
       "      <td>BLACK</td>\n",
       "      <td>1.007453e+06</td>\n",
       "      <td>233952.000000</td>\n",
       "      <td>40.808798</td>\n",
       "      <td>-73.916184</td>\n",
       "      <td>POINT (-73.91618413199996 40.80879780500004)</td>\n",
       "    </tr>\n",
       "    <tr>\n",
       "      <th>4</th>\n",
       "      <td>90843766</td>\n",
       "      <td>05/27/2013</td>\n",
       "      <td>21:16:00</td>\n",
       "      <td>QUEENS</td>\n",
       "      <td>100</td>\n",
       "      <td>0.0</td>\n",
       "      <td>NaN</td>\n",
       "      <td>False</td>\n",
       "      <td>NaN</td>\n",
       "      <td>NaN</td>\n",
       "      <td>NaN</td>\n",
       "      <td>18-24</td>\n",
       "      <td>M</td>\n",
       "      <td>BLACK</td>\n",
       "      <td>1.041267e+06</td>\n",
       "      <td>157133.515625</td>\n",
       "      <td>40.597796</td>\n",
       "      <td>-73.794686</td>\n",
       "      <td>POINT (-73.79468553799995 40.597796249000055)</td>\n",
       "    </tr>\n",
       "  </tbody>\n",
       "</table>\n",
       "</div>"
      ],
      "text/plain": [
       "   INCIDENT_KEY  OCCUR_DATE OCCUR_TIME      BORO  PRECINCT  JURISDICTION_CODE  \\\n",
       "0      24050482  08/27/2006   05:35:00     BRONX        52                0.0   \n",
       "1      77673979  03/11/2011   12:03:00    QUEENS       106                0.0   \n",
       "2     203350417  10/06/2019   01:09:00  BROOKLYN        77                0.0   \n",
       "3      80584527  09/04/2011   03:35:00     BRONX        40                0.0   \n",
       "4      90843766  05/27/2013   21:16:00    QUEENS       100                0.0   \n",
       "\n",
       "  LOCATION_DESC  STATISTICAL_MURDER_FLAG PERP_AGE_GROUP PERP_SEX PERP_RACE  \\\n",
       "0           NaN                     True            NaN      NaN       NaN   \n",
       "1           NaN                    False            NaN      NaN       NaN   \n",
       "2           NaN                    False            NaN      NaN       NaN   \n",
       "3           NaN                    False            NaN      NaN       NaN   \n",
       "4           NaN                    False            NaN      NaN       NaN   \n",
       "\n",
       "  VIC_AGE_GROUP VIC_SEX        VIC_RACE    X_COORD_CD     Y_COORD_CD  \\\n",
       "0         25-44       F  BLACK HISPANIC  1.017542e+06  255918.875000   \n",
       "1           65+       M           WHITE  1.027543e+06  186095.000000   \n",
       "2         18-24       F           BLACK  9.953250e+05  185155.000000   \n",
       "3           <18       M           BLACK  1.007453e+06  233952.000000   \n",
       "4         18-24       M           BLACK  1.041267e+06  157133.515625   \n",
       "\n",
       "    Latitude  Longitude                                        Lon_Lat  \n",
       "0  40.869058 -73.879632   POINT (-73.87963173099996 40.86905819000003)  \n",
       "1  40.677367 -73.843920  POINT (-73.84392019199998 40.677366895000034)  \n",
       "2  40.674886 -73.960075  POINT (-73.96007501899999 40.674885741000026)  \n",
       "3  40.808798 -73.916184   POINT (-73.91618413199996 40.80879780500004)  \n",
       "4  40.597796 -73.794686  POINT (-73.79468553799995 40.597796249000055)  "
      ]
     },
     "execution_count": 39,
     "metadata": {},
     "output_type": "execute_result"
    }
   ],
   "source": [
    "data.head()"
   ]
  },
  {
   "cell_type": "markdown",
   "id": "dd13fd68",
   "metadata": {},
   "source": [
    "Broader scope of the dataset"
   ]
  },
  {
   "cell_type": "code",
   "execution_count": 40,
   "id": "fed8f779",
   "metadata": {},
   "outputs": [
    {
     "data": {
      "text/plain": [
       "<bound method NDFrame._add_numeric_operations.<locals>.max of        INCIDENT_KEY  OCCUR_DATE OCCUR_TIME       BORO  PRECINCT  \\\n",
       "4437        9953247  01/01/2006   03:30:00   BROOKLYN        67   \n",
       "16838     139716503  01/01/2006   12:30:00   BROOKLYN        77   \n",
       "14553       9953246  01/01/2006   05:51:00      BRONX        44   \n",
       "21448       9953250  01/01/2006   02:34:00     QUEENS       114   \n",
       "21506       9953245  01/01/2006   02:00:00      BRONX        48   \n",
       "...             ...         ...        ...        ...       ...   \n",
       "12562     206891917  12/31/2019   20:14:00   BROOKLYN        73   \n",
       "22540     222473262  12/31/2020   23:45:00  MANHATTAN        33   \n",
       "13915     222466833  12/31/2020   19:27:00     QUEENS       113   \n",
       "11511     222468112  12/31/2020   14:59:00     QUEENS       103   \n",
       "6996      222446417  12/31/2020   00:42:00      BRONX        44   \n",
       "\n",
       "       JURISDICTION_CODE   LOCATION_DESC  STATISTICAL_MURDER_FLAG  \\\n",
       "4437                 0.0             NaN                    False   \n",
       "16838                0.0       PVT HOUSE                     True   \n",
       "14553                0.0            NONE                    False   \n",
       "21448                0.0  BAR/NIGHT CLUB                     True   \n",
       "21506                0.0            NONE                    False   \n",
       "...                  ...             ...                      ...   \n",
       "12562                0.0             NaN                    False   \n",
       "22540                0.0             NaN                    False   \n",
       "13915                0.0             NaN                     True   \n",
       "11511                0.0             NaN                    False   \n",
       "6996                 0.0  SMALL MERCHANT                    False   \n",
       "\n",
       "      PERP_AGE_GROUP PERP_SEX       PERP_RACE VIC_AGE_GROUP VIC_SEX  \\\n",
       "4437         UNKNOWN        U         UNKNOWN         18-24       M   \n",
       "16838            NaN      NaN             NaN         25-44       M   \n",
       "14553          25-44        M  WHITE HISPANIC         18-24       M   \n",
       "21448          25-44        M           BLACK         25-44       M   \n",
       "21506          18-24        M           BLACK           <18       M   \n",
       "...              ...      ...             ...           ...     ...   \n",
       "12562            NaN      NaN             NaN         25-44       M   \n",
       "22540          25-44        M  BLACK HISPANIC         18-24       M   \n",
       "13915            NaN      NaN             NaN         25-44       M   \n",
       "11511          18-24        M           BLACK         18-24       M   \n",
       "6996             NaN      NaN             NaN         25-44       M   \n",
       "\n",
       "             VIC_RACE    X_COORD_CD     Y_COORD_CD   Latitude  Longitude  \\\n",
       "4437            BLACK  9.993160e+05  176460.000000  40.651014 -73.945707   \n",
       "16838           BLACK  9.964416e+05  184160.359375  40.672154 -73.956052   \n",
       "14553  WHITE HISPANIC  1.007418e+06  243859.218750  40.835990 -73.916276   \n",
       "21448           BLACK  1.002577e+06  221583.453125  40.774861 -73.933833   \n",
       "21506           BLACK  1.013405e+06  251800.750000  40.857770 -73.894607   \n",
       "...               ...           ...            ...        ...        ...   \n",
       "12562           BLACK  1.007235e+06  179931.906250  40.660527 -73.917156   \n",
       "22540  BLACK HISPANIC  9.999233e+05  244406.562500  40.837509 -73.943360   \n",
       "13915           BLACK  1.041343e+06  189493.562500  40.686617 -73.794141   \n",
       "11511           BLACK  1.040590e+06  191768.156250  40.692865 -73.796836   \n",
       "6996   WHITE HISPANIC  1.009943e+06  244586.390625  40.837979 -73.907148   \n",
       "\n",
       "                                             Lon_Lat  \n",
       "4437    POINT (-73.94570651699996 40.65101399800005)  \n",
       "16838   POINT (-73.95605150499995 40.67215420900004)  \n",
       "14553   POINT (-73.91627635899994 40.83599040100006)  \n",
       "21448   POINT (-73.93383258499995 40.77486094100004)  \n",
       "21506   POINT (-73.89460745999997 40.85776982200008)  \n",
       "...                                              ...  \n",
       "12562   POINT (-73.91715616699997 40.66052660500003)  \n",
       "22540   POINT (-73.94335955899999 40.83750918100003)  \n",
       "13915  POINT (-73.79414095299995 40.686616910000055)  \n",
       "11511   POINT (-73.79683591199995 40.69286495400007)  \n",
       "6996    POINT (-73.90714754299995 40.83797929000008)  \n",
       "\n",
       "[23585 rows x 19 columns]>"
      ]
     },
     "execution_count": 40,
     "metadata": {},
     "output_type": "execute_result"
    }
   ],
   "source": [
    "date = data.sort_values(by=['OCCUR_DATE'])\n",
    "date.max"
   ]
  },
  {
   "cell_type": "markdown",
   "id": "b20c7a33",
   "metadata": {},
   "source": [
    "Plot histogram of VIC_RACE"
   ]
  },
  {
   "cell_type": "code",
   "execution_count": 41,
   "id": "0bfd0474",
   "metadata": {},
   "outputs": [],
   "source": [
    "import matplotlib.pyplot as plt\n",
    "import numpy as np\n",
    "%matplotlib inline"
   ]
  },
  {
   "cell_type": "code",
   "execution_count": 42,
   "id": "d07c4dac",
   "metadata": {},
   "outputs": [],
   "source": [
    "race = data['VIC_RACE']"
   ]
  },
  {
   "cell_type": "markdown",
   "id": "33cc3f0f",
   "metadata": {},
   "source": [
    "Plot histogram of the Races"
   ]
  },
  {
   "cell_type": "code",
   "execution_count": 43,
   "id": "2a943960",
   "metadata": {},
   "outputs": [
    {
     "data": {
      "image/png": "[encoded data removed]",
      "text/plain": [
       "<Figure size 432x288 with 1 Axes>"
      ]
     },
     "metadata": {
      "needs_background": "light"
     },
     "output_type": "display_data"
    }
   ],
   "source": [
    "p = plt.hist(race, density=False, bins=20) \n",
    "plt.xticks(rotation ='vertical')\n",
    "plt.show()"
   ]
  },
  {
   "cell_type": "code",
   "execution_count": 61,
   "id": "30903bb9",
   "metadata": {},
   "outputs": [
    {
     "data": {
      "text/html": [
       "<div>\n",
       "<style scoped>\n",
       "    .dataframe tbody tr th:only-of-type {\n",
       "        vertical-align: middle;\n",
       "    }\n",
       "\n",
       "    .dataframe tbody tr th {\n",
       "        vertical-align: top;\n",
       "    }\n",
       "\n",
       "    .dataframe thead th {\n",
       "        text-align: right;\n",
       "    }\n",
       "</style>\n",
       "<table border=\"1\" class=\"dataframe\">\n",
       "  <thead>\n",
       "    <tr style=\"text-align: right;\">\n",
       "      <th></th>\n",
       "      <th>0</th>\n",
       "    </tr>\n",
       "    <tr>\n",
       "      <th>VIC_RACE</th>\n",
       "      <th></th>\n",
       "    </tr>\n",
       "  </thead>\n",
       "  <tbody>\n",
       "    <tr>\n",
       "      <th>AMERICAN INDIAN/ALASKAN NATIVE</th>\n",
       "      <td>9</td>\n",
       "    </tr>\n",
       "    <tr>\n",
       "      <th>ASIAN / PACIFIC ISLANDER</th>\n",
       "      <td>327</td>\n",
       "    </tr>\n",
       "    <tr>\n",
       "      <th>BLACK</th>\n",
       "      <td>16869</td>\n",
       "    </tr>\n",
       "    <tr>\n",
       "      <th>BLACK HISPANIC</th>\n",
       "      <td>2245</td>\n",
       "    </tr>\n",
       "    <tr>\n",
       "      <th>UNKNOWN</th>\n",
       "      <td>65</td>\n",
       "    </tr>\n",
       "    <tr>\n",
       "      <th>WHITE</th>\n",
       "      <td>620</td>\n",
       "    </tr>\n",
       "    <tr>\n",
       "      <th>WHITE HISPANIC</th>\n",
       "      <td>3450</td>\n",
       "    </tr>\n",
       "  </tbody>\n",
       "</table>\n",
       "</div>"
      ],
      "text/plain": [
       "                                    0\n",
       "VIC_RACE                             \n",
       "AMERICAN INDIAN/ALASKAN NATIVE      9\n",
       "ASIAN / PACIFIC ISLANDER          327\n",
       "BLACK                           16869\n",
       "BLACK HISPANIC                   2245\n",
       "UNKNOWN                            65\n",
       "WHITE                             620\n",
       "WHITE HISPANIC                   3450"
      ]
     },
     "execution_count": 61,
     "metadata": {},
     "output_type": "execute_result"
    }
   ],
   "source": [
    "pieC = data.groupby(['VIC_RACE']).size()\n",
    "pieC = pd.DataFrame(pieC)\n",
    "pieC"
   ]
  },
  {
   "cell_type": "markdown",
   "id": "81625779",
   "metadata": {},
   "source": [
    "Pie Chart of the Race. "
   ]
  },
  {
   "cell_type": "code",
   "execution_count": 60,
   "id": "50c7da63",
   "metadata": {},
   "outputs": [
    {
     "data": {
      "text/plain": [
       "<AxesSubplot:ylabel='0'>"
      ]
     },
     "execution_count": 60,
     "metadata": {},
     "output_type": "execute_result"
    },
    {
     "data": {
      "image/png": "[encoded data removed]",
      "text/plain": [
       "<Figure size 432x288 with 1 Axes>"
      ]
     },
     "metadata": {},
     "output_type": "display_data"
    }
   ],
   "source": [
    "pieC.groupby(['VIC_RACE']).sum().plot(kind='pie', y=0, legend=None)"
   ]
  },
  {
   "cell_type": "code",
   "execution_count": 62,
   "id": "940594a8",
   "metadata": {},
   "outputs": [],
   "source": [
    "age = data['VIC_AGE_GROUP']"
   ]
  },
  {
   "cell_type": "code",
   "execution_count": 63,
   "id": "0ba6d5bd",
   "metadata": {},
   "outputs": [
    {
     "data": {
      "image/png": "[encoded data removed]",
      "text/plain": [
       "<Figure size 432x288 with 1 Axes>"
      ]
     },
     "metadata": {
      "needs_background": "light"
     },
     "output_type": "display_data"
    }
   ],
   "source": [
    "p_age = plt.hist(age, density=False, bins=20) \n",
    "plt.xticks(rotation ='vertical')\n",
    "plt.show()"
   ]
  },
  {
   "cell_type": "code",
   "execution_count": 64,
   "id": "1a3f6e92",
   "metadata": {},
   "outputs": [],
   "source": [
    "precinct = data['PRECINCT']"
   ]
  },
  {
   "cell_type": "code",
   "execution_count": 65,
   "id": "a9d116f2",
   "metadata": {},
   "outputs": [
    {
     "data": {
      "image/png": "[encoded data removed]",
      "text/plain": [
       "<Figure size 432x288 with 1 Axes>"
      ]
     },
     "metadata": {
      "needs_background": "light"
     },
     "output_type": "display_data"
    }
   ],
   "source": [
    "p_precinct = plt.hist(precinct, density=False, bins=20) \n",
    "plt.xticks(rotation ='vertical')\n",
    "plt.show()"
   ]
  },
  {
   "cell_type": "code",
   "execution_count": null,
   "id": "9f6335e3",
   "metadata": {},
   "outputs": [],
   "source": []
  }
 ],
 "metadata": {
  "kernelspec": {
   "display_name": "Python 3 (ipykernel)",
   "language": "python",
   "name": "python3"
  },
  "language_info": {
   "codemirror_mode": {
    "name": "ipython",
    "version": 3
   },
   "file_extension": ".py",
   "mimetype": "text/x-python",
   "name": "python",
   "nbconvert_exporter": "python",
   "pygments_lexer": "ipython3",
   "version": "3.8.10"
  }
 },
 "nbformat": 4,
 "nbformat_minor": 5
}
